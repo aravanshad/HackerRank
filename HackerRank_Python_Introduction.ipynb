{
 "cells": [
  {
   "cell_type": "markdown",
   "metadata": {
    "deletable": true,
    "editable": true
   },
   "source": [
    "# Practice python programming based on Hackerrank challenges"
   ]
  },
  {
   "cell_type": "markdown",
   "metadata": {
    "deletable": true,
    "editable": true
   },
   "source": [
    "## Introduction"
   ]
  },
  {
   "cell_type": "markdown",
   "metadata": {
    "deletable": true,
    "editable": true
   },
   "source": [
    "***\n",
    "**1. ** *Given an array of  integers, can you find the sum of its elements?*"
   ]
  },
  {
   "cell_type": "code",
   "execution_count": 10,
   "metadata": {
    "collapsed": false,
    "deletable": true,
    "editable": true
   },
   "outputs": [
    {
     "name": "stdout",
     "output_type": "stream",
     "text": [
      "6\n",
      "1 2 3 4 10 11\n",
      "31\n"
     ]
    }
   ],
   "source": [
    "import sys\n",
    "n = int(raw_input().strip())\n",
    "arr = map(int, raw_input().strip().split(' '))\n",
    "Sum = sum(arr) \n",
    "print Sum"
   ]
  },
  {
   "cell_type": "markdown",
   "metadata": {
    "deletable": true,
    "editable": true
   },
   "source": [
    "> **Note:** apply works on a row / column basis of a DataFrame, applymap works element-wise on a DataFrame, and map works element-wise on a Series."
   ]
  },
  {
   "cell_type": "markdown",
   "metadata": {
    "deletable": true,
    "editable": true
   },
   "source": [
    "***\n",
    "**2. ** *Alice and Bob each created one problem for HackerRank. A reviewer rates the two challenges, awarding points on a scale from  to  for three categories: problem clarity, originality, and difficulty.* \n",
    "\n",
    "*We define the rating for Alice's challenge to be the triplet A=(a0,a1,a2), and the rating for Bob's challenge to be the triplet B=(b0,b1,b2).*\n",
    "\n",
    "*Your task is to find their comparison points by comparing a0 with b0, a1 with b1, and a2 with b2.*\n",
    "\n",
    "*If ai > bi, then Alice is awarded  point.*\n",
    "*If ai < bi, then Bob is awarded  point.*\n",
    "*If ai = bi, then neither person receives a point.*\n",
    "*Comparison points is the total points a person earned.*\n",
    "\n",
    "*Given A and B, can you compare the two challenges and print their respective comparison points?*"
   ]
  },
  {
   "cell_type": "code",
   "execution_count": 39,
   "metadata": {
    "collapsed": false,
    "deletable": true,
    "editable": true
   },
   "outputs": [
    {
     "name": "stdout",
     "output_type": "stream",
     "text": [
      "12 55 48 66 2\n",
      "25 98 12 66 2\n",
      "1 2\n"
     ]
    }
   ],
   "source": [
    "# A more general approach\n",
    "import sys\n",
    "\n",
    "def solve(A, B):\n",
    "    Score = [0] * 2\n",
    "    for i in range(len(A)):\n",
    "        if A[i]>B[i]:\n",
    "            Score[0] += 1\n",
    "        elif A[i]<B[i]:\n",
    "            Score[1] += 1\n",
    "        else:\n",
    "            pass            \n",
    "    return Score\n",
    "\n",
    "Alice = map(int,raw_input().strip().split(' '))\n",
    "Bob = map(int,raw_input().strip().split(' '))\n",
    "result = solve(Alice, Bob)\n",
    "print \" \".join(map(str, result))"
   ]
  },
  {
   "cell_type": "code",
   "execution_count": 44,
   "metadata": {
    "collapsed": false,
    "deletable": true,
    "editable": true
   },
   "outputs": [
    {
     "name": "stdout",
     "output_type": "stream",
     "text": [
      "12 25 36 96\n",
      "15 36 35 96\n",
      "(1, 2)\n",
      "--- 0.000510931015015 seconds ---\n"
     ]
    }
   ],
   "source": [
    "# A very nice implentation but it actually takes longer to run than classic implementation\n",
    "import time\n",
    "\n",
    "a = map(int,raw_input().strip().split(' '))\n",
    "b = map(int,raw_input().strip().split(' '))\n",
    "\n",
    "start_time = time.time()\n",
    "\n",
    "score = [1 if x > y else 0 if x == y else -1 for x, y in zip(a, b)]\n",
    "\n",
    "print (score.count(1), score.count(-1))\n",
    "print(\"--- %s seconds ---\" % (time.time() - start_time))"
   ]
  },
  {
   "cell_type": "code",
   "execution_count": 46,
   "metadata": {
    "collapsed": false,
    "deletable": true,
    "editable": true
   },
   "outputs": [
    {
     "name": "stdout",
     "output_type": "stream",
     "text": [
      "12 32 25 25\n",
      "25 36 69 35\n",
      "--- 0.000383853912354 seconds ---\n"
     ]
    }
   ],
   "source": [
    "import time\n",
    "\n",
    "a = map(int,raw_input().strip().split(' '))\n",
    "b = map(int,raw_input().strip().split(' '))\n",
    "\n",
    "start_time = time.time()\n",
    "def f2(a,b):\n",
    "    s1,s2=0,0\n",
    "    for x,y in zip(a,b):\n",
    "        if x>y: s1 += 1\n",
    "        elif y<x: s2+= 1\n",
    "            \n",
    "print(\"--- %s seconds ---\" % (time.time() - start_time))         "
   ]
  },
  {
   "cell_type": "code",
   "execution_count": 91,
   "metadata": {
    "collapsed": false,
    "deletable": true,
    "editable": true
   },
   "outputs": [
    {
     "name": "stdout",
     "output_type": "stream",
     "text": [
      "5 6 7\n",
      "3 6 10\n",
      "1 1\n"
     ]
    }
   ],
   "source": [
    "import sys\n",
    "\n",
    "def solve(a0, a1, a2, b0, b1, b2):\n",
    "    # Complete this function\n",
    "    s = [0] * 2\n",
    "    for i in range(3):\n",
    "        x = eval(\"a{0}\".format(i))\n",
    "        y = eval(\"b{0}\".format(i))\n",
    "        if x>y: s[0] += 1 \n",
    "        elif x<y: s[1] += 1\n",
    "    return s\n",
    "\n",
    "a0, a1, a2 = raw_input().strip().split(' ')\n",
    "a0, a1, a2 = [int(a0), int(a1), int(a2)]\n",
    "b0, b1, b2 = raw_input().strip().split(' ')\n",
    "b0, b1, b2 = [int(b0), int(b1), int(b2)]\n",
    "result = solve(a0, a1, a2, b0, b1, b2)\n",
    "print \" \".join(map(str, result))"
   ]
  },
  {
   "cell_type": "markdown",
   "metadata": {
    "deletable": true,
    "editable": true
   },
   "source": [
    "***\n",
    "**3.** *Read two integers from STDIN and print three lines where:*\n",
    "\n",
    "- *The first line contains the sum of the two numbers.*\n",
    "- *The second line contains the difference of the two numbers (first - second).*\n",
    "- *The third line contains the product of the two numbers.*"
   ]
  },
  {
   "cell_type": "code",
   "execution_count": 93,
   "metadata": {
    "collapsed": false,
    "deletable": true,
    "editable": true
   },
   "outputs": [
    {
     "name": "stdout",
     "output_type": "stream",
     "text": [
      "3 \n",
      "2\n",
      "5 \n",
      "1 \n",
      "6\n"
     ]
    }
   ],
   "source": [
    "if __name__ == '__main__':\n",
    "    a = int(raw_input())\n",
    "    b = int(raw_input())\n",
    "#     print (str(a+b) + \"\\n\" + str(a-b) + \"\\n\" + str(a*b))\n",
    "    print ('{0} \\n{1} \\n{2}'.format(a+b, a-b, a*b))"
   ]
  },
  {
   "cell_type": "markdown",
   "metadata": {
    "deletable": true,
    "editable": true
   },
   "source": [
    "4. Read an integer N. For all non-negative integers i<N, print i^2."
   ]
  },
  {
   "cell_type": "code",
   "execution_count": 6,
   "metadata": {
    "collapsed": false,
    "deletable": true,
    "editable": true
   },
   "outputs": [
    {
     "name": "stdout",
     "output_type": "stream",
     "text": [
      "6\n",
      "0\n",
      "1\n",
      "4\n",
      "9\n",
      "16\n",
      "25\n"
     ]
    }
   ],
   "source": [
    "if __name__ == '__main__':\n",
    "    n = int(input())\n",
    "    for i in map(lambda x : x**2,range(n)):print i"
   ]
  },
  {
   "cell_type": "code",
   "execution_count": 2,
   "metadata": {
    "collapsed": false,
    "deletable": true,
    "editable": true
   },
   "outputs": [
    {
     "name": "stdout",
     "output_type": "stream",
     "text": [
      "3\n",
      "0\n",
      "1\n",
      "4\n"
     ]
    }
   ],
   "source": [
    "#This is a nice implementation in python 3\n",
    "if __name__ == '__main__':\n",
    "    n = int(input())\n",
    "    print(*[num**2 for num in range(n)], sep='\\n')"
   ]
  },
  {
   "cell_type": "markdown",
   "metadata": {
    "deletable": true,
    "editable": true
   },
   "source": [
    "I learned something interesting called [Unpacking Argument Lists](https://docs.python.org/3/tutorial/controlflow.html#arbitrary-argument-lists)"
   ]
  },
  {
   "cell_type": "code",
   "execution_count": null,
   "metadata": {
    "collapsed": true,
    "deletable": true,
    "editable": true
   },
   "outputs": [],
   "source": [
    "s = range(5)\n",
    "for i in s: print(s[i])\n",
    "# print(*s, sep='\\n')"
   ]
  },
  {
   "cell_type": "markdown",
   "metadata": {
    "deletable": true,
    "editable": true
   },
   "source": [
    "***\n",
    "**4.** *We add a Leap Day on February 29, almost every four years. The leap day is an extra, or intercalary, day and we add it to the shortest month of the year, February. In the Gregorian calendar three criteria must be taken into account to identify leap years:*\n",
    "\n",
    "- *The year can be evenly divided by 4, unless;*\n",
    "- *The year can be evenly divided by 100, it is NOT a leap year, unless;*\n",
    "- *The year is also evenly divisible by 400. Then it is a leap year.*\n"
   ]
  },
  {
   "cell_type": "code",
   "execution_count": 11,
   "metadata": {
    "collapsed": false,
    "deletable": true,
    "editable": true
   },
   "outputs": [
    {
     "name": "stdout",
     "output_type": "stream",
     "text": [
      "2000\n",
      "True\n"
     ]
    }
   ],
   "source": [
    "def is_leap(year):\n",
    "    leap = False\n",
    "    \n",
    "    # Write your logic here \n",
    "    return year%4 == 0 and (year%400 == 0 or year%100 != 0)\n",
    "\n",
    "year = int(raw_input())\n",
    "print is_leap(year)"
   ]
  },
  {
   "cell_type": "code",
   "execution_count": 12,
   "metadata": {
    "collapsed": false,
    "deletable": true,
    "editable": true
   },
   "outputs": [
    {
     "name": "stdout",
     "output_type": "stream",
     "text": [
      "1990\n",
      "False\n"
     ]
    }
   ],
   "source": [
    "# implementation using any\n",
    "def is_leap(year):\n",
    "    leap = any([year % 4 == 0 and year % 100 != 0, year % 400 == 0])\n",
    "    return leap\n",
    "\n",
    "year = int(raw_input())\n",
    "print is_leap(year)"
   ]
  },
  {
   "cell_type": "markdown",
   "metadata": {
    "collapsed": true,
    "deletable": true,
    "editable": true
   },
   "source": [
    "***\n",
    "**5.** *Without using any string methods, try to print the following:*\n",
    "\n",
    " *123...N*"
   ]
  },
  {
   "cell_type": "code",
   "execution_count": 5,
   "metadata": {
    "collapsed": false,
    "deletable": true,
    "editable": true
   },
   "outputs": [
    {
     "name": "stdout",
     "output_type": "stream",
     "text": [
      "5\n",
      "12345\n"
     ]
    }
   ],
   "source": [
    "# using string method\n",
    "from __future__ import print_function\n",
    "if __name__ == '__main__':\n",
    "    n = int(raw_input())\n",
    "    s='1'\n",
    "    for i in range(2,n+1): s = s + str(i)\n",
    "    print(s)\n",
    "    "
   ]
  },
  {
   "cell_type": "code",
   "execution_count": 4,
   "metadata": {
    "collapsed": false,
    "deletable": true,
    "editable": true
   },
   "outputs": [
    {
     "name": "stdout",
     "output_type": "stream",
     "text": [
      "10\n",
      "12345678910\n"
     ]
    }
   ],
   "source": [
    "# without using string method (python3)\n",
    "if __name__ == '__main__':\n",
    "    n = int(input())\n",
    "    print(*range(1, n+1), sep='')"
   ]
  },
  {
   "cell_type": "code",
   "execution_count": 5,
   "metadata": {
    "collapsed": false,
    "deletable": true,
    "editable": true
   },
   "outputs": [
    {
     "name": "stdout",
     "output_type": "stream",
     "text": [
      "10\n",
      "12345678910\n"
     ]
    }
   ],
   "source": [
    "# without using string method (python2)\n",
    "# Importing future essentially sets the program to Python 3.\n",
    "from __future__ import print_function\n",
    "if __name__ == '__main__':\n",
    "    n = int(raw_input())\n",
    "    print(*range(1, n+1), sep='')"
   ]
  }
 ],
 "metadata": {
  "kernelspec": {
   "display_name": "Python 2",
   "language": "python",
   "name": "python2"
  },
  "language_info": {
   "codemirror_mode": {
    "name": "ipython",
    "version": 2
   },
   "file_extension": ".py",
   "mimetype": "text/x-python",
   "name": "python",
   "nbconvert_exporter": "python",
   "pygments_lexer": "ipython2",
   "version": "2.7.13"
  }
 },
 "nbformat": 4,
 "nbformat_minor": 2
}
